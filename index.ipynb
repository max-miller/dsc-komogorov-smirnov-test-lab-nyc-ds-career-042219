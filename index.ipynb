{
 "cells": [
  {
   "cell_type": "markdown",
   "metadata": {},
   "source": [
    "# The Kolmogorov-Smirnov Test - Lab"
   ]
  },
  {
   "cell_type": "markdown",
   "metadata": {},
   "source": [
    "## Introduction\n",
    "In the previous lesson, we saw that the Kolmogorov–Smirnov statistic quantifies a distance between the empirical distribution function of the sample and the cumulative distribution function of the reference distribution, or between the empirical distribution functions of two samples. In this lab, we shall see how to perform this test in python. \n",
    "\n",
    "## Objectives\n",
    "\n",
    "You will be able to:\n",
    "* Perform 1 sample and 2 sample KS tests in Python and Scipy\n",
    "* Compare KS test to visual approaches for checking normality assumptions\n",
    "* Plot CDF and ECDF to visualize parametric and empirical cumulative distribution functions"
   ]
  },
  {
   "cell_type": "markdown",
   "metadata": {},
   "source": [
    "## Generate Data\n",
    "\n",
    "### Let's import necessary libraries and generate some data "
   ]
  },
  {
   "cell_type": "code",
   "execution_count": 1,
   "metadata": {},
   "outputs": [],
   "source": [
    "import scipy.stats as stats\n",
    "import statsmodels.api as sm\n",
    "import numpy as np\n",
    "\n",
    "import matplotlib.pyplot as plt\n",
    "plt.style.use('ggplot')\n",
    "\n",
    "# Create the normal random variables with mean 0, and sd 3\n",
    "x_10 = stats.norm.rvs(loc=0, scale=3, size=10)\n",
    "x_50 = stats.norm.rvs(loc=0, scale=3, size=50)\n",
    "x_100 = stats.norm.rvs(loc=0, scale=3, size=100)\n",
    "x_1000 = stats.norm.rvs(loc=0, scale=3, size=1000)"
   ]
  },
  {
   "cell_type": "markdown",
   "metadata": {},
   "source": [
    "### Plot Histograms and QQ plots of above datasets and comment on the output \n",
    "\n",
    "- How good are these techniques for checking normality assumptions?\n",
    "- Compare both these techniques and identify their limitations/benefits etc. \n"
   ]
  },
  {
   "cell_type": "code",
   "execution_count": 11,
   "metadata": {},
   "outputs": [
    {
     "data": {
      "image/png": "iVBORw0KGgoAAAANSUhEUgAAAYcAAAENCAYAAADkNanAAAAABHNCSVQICAgIfAhkiAAAAAlwSFlzAAALEgAACxIB0t1+/AAAADl0RVh0U29mdHdhcmUAbWF0cGxvdGxpYiB2ZXJzaW9uIDMuMC4yLCBodHRwOi8vbWF0cGxvdGxpYi5vcmcvOIA7rQAAIABJREFUeJzt3Xl4VOXZx/HvJJOESTLJACGVgIp1t9atlaq1r+K+W6l9FJXWlVpRqxBC2AVZwi4qioCIK3LXRnEtimu1WpfWqhStCyAmKiQhyYRM1pn3jzOxIeuEzMyZSe7PdXGRObOcHxMyd57znHM/jkAggFJKKdVcgt0BlFJKxR4tDkoppVrR4qCUUqoVLQ5KKaVa0eKglFKqFS0OSimlWtHioJRSqhUtDkoppVrR4qCUUqoVp90BukEv7VZKqT3j6OwB8VwcKC4ujsp+srKyKCkpicq+wiXeMmveyNK8kRWzeRsbSVu9GndBATgcVE6ciGfixJCeGtfFQSmlVNucn3+OJzeX5Pffp2bYMCoKCmgcPBhPqM+PaDqllFLRVV9P+j334L7jDgKpqexcsgTfb34Djk6PJO1Gi4NSSvUQSR9/jGfMGJL+8x98551HxcyZ+AcM2KPX0uKglFLxzufDvXgx6cuW4e/fn7KVK6k5++xuvaQWB6WUimPJ77yDJzcX5+bN7BoxgsrJkwl4Qp1ZaJ9e56CU6hEKC10MHZrN4MEDGTo0m8JCl92RIsrh9ZI5cSJZv/kNNDRQsmYNFQsWhKUwgI4clFI9QGGhi7y8THw+6/fdoiIneXmZAAwf7rMzWkSkvPIKmePHk/jtt1Rdey3e8eMJpKaGdR86clBKxb2CAvcPhaGJz5dAQYHbpkSR4Sgrw3PzzfQfOZJAWholTz1F5fTpYS8MoCMHpVQPUFyc2KXtcScQoM8zz5A5eTIJFRV4b7kF7803Q0pKxHapxUEpFfdychopKmr9cZaT02hDmvBK+O47MidOxLV+PXVHHEHpmjU0/OQnkd9vxPeglFIRlp/vxeXy77bN5fKTn++1KVEYBAKkrllD9rBh9Hn9dSomT6bkmWeiUhhARw5KqR6gadK5oMBNcXEiOTmN5Od743YyOnHrVjzjxpHy1lvUHncc5fPn0/jjH0c1gxYHpVSPMHy4L26LwQ8aG0lbtQr33LmQmEj5nDlUX3EFJET/II8WB6WUigHOzz7DM3Ysyf/6FzWnnEJ5QQH+QYPsy2PbnpVSSkFdHelLl+JesgR/ejo777oL30UXdblRXrhpcVBKKZskffghntxckjZtovrCC6mcMQN/VpbdsQAtDkopFXUOnw/3ggWkLV+OPzub0gceoPaMM+yOtRstDkopFUXJf/87nnHjcG7Zwq7LL7ca5WVk2B2rFS0OSikVBY7KSjJmzSLtkUdo2HdfStaupe7EE+2O1S4tDkopFWEpGzbgGT+ehO3bqRo1Cm9eHgFXbHeN1eKglFIRklBaSsa0aaQ++ST1Bx9M2YoV1B9zjN2xQqLFQSmlwi0QwLVuHRlTppDg9VI5dixVN94Iycl2JwtZTBQHY8zewEPAXoAfWC4iS+xNpZRSXZdQXIxnwgT6bNhA3dFHU7pgAQ2HHGJ3rC6LlcZ7DcBYETkUOA4YbYw5zOZMSikVOr+f1EceIfuUU0h+800qpk6lZN26uCwMECMjBxH5Fvg2+LXXGLMJGAT8x9ZgSikVii++oP+115Ly9tvUnnCC1ShvyBC7U3VLTBSH5owxQ4CjgX/YHEUppTrW2EjaihUkLVhAwOmkfN48qi+7zPbWF+HgCAQCdmf4gTEmHXgdmCUihW3cPwoYBSAiP6urq4tKLqfTSUNDQ1T2FS7xllnzRlas5l2zJoGpUxPZtg323htmzGhkxAh/zOZtzrFxI4mj